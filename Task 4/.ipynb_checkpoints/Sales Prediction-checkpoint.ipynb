{
 "cells": [
  {
   "cell_type": "code",
   "execution_count": 1,
   "id": "c2f6f091",
   "metadata": {},
   "outputs": [],
   "source": [
    "# importing modules\n",
    "import pandas as pd\n",
    "import matplotlib.pyplot as plt\n",
    "import seaborn as sns"
   ]
  },
  {
   "cell_type": "code",
   "execution_count": 2,
   "id": "5053a461",
   "metadata": {},
   "outputs": [],
   "source": [
    "# reading csv file\n",
    "data = pd.read_csv('Advertising.csv')"
   ]
  },
  {
   "cell_type": "code",
   "execution_count": 3,
   "id": "3a2d61d2",
   "metadata": {},
   "outputs": [
    {
     "data": {
      "text/html": [
       "<div>\n",
       "<style scoped>\n",
       "    .dataframe tbody tr th:only-of-type {\n",
       "        vertical-align: middle;\n",
       "    }\n",
       "\n",
       "    .dataframe tbody tr th {\n",
       "        vertical-align: top;\n",
       "    }\n",
       "\n",
       "    .dataframe thead th {\n",
       "        text-align: right;\n",
       "    }\n",
       "</style>\n",
       "<table border=\"1\" class=\"dataframe\">\n",
       "  <thead>\n",
       "    <tr style=\"text-align: right;\">\n",
       "      <th></th>\n",
       "      <th>Unnamed: 0</th>\n",
       "      <th>TV</th>\n",
       "      <th>Radio</th>\n",
       "      <th>Newspaper</th>\n",
       "      <th>Sales</th>\n",
       "    </tr>\n",
       "  </thead>\n",
       "  <tbody>\n",
       "    <tr>\n",
       "      <th>0</th>\n",
       "      <td>1</td>\n",
       "      <td>230.1</td>\n",
       "      <td>37.8</td>\n",
       "      <td>69.2</td>\n",
       "      <td>22.1</td>\n",
       "    </tr>\n",
       "    <tr>\n",
       "      <th>1</th>\n",
       "      <td>2</td>\n",
       "      <td>44.5</td>\n",
       "      <td>39.3</td>\n",
       "      <td>45.1</td>\n",
       "      <td>10.4</td>\n",
       "    </tr>\n",
       "    <tr>\n",
       "      <th>2</th>\n",
       "      <td>3</td>\n",
       "      <td>17.2</td>\n",
       "      <td>45.9</td>\n",
       "      <td>69.3</td>\n",
       "      <td>9.3</td>\n",
       "    </tr>\n",
       "    <tr>\n",
       "      <th>3</th>\n",
       "      <td>4</td>\n",
       "      <td>151.5</td>\n",
       "      <td>41.3</td>\n",
       "      <td>58.5</td>\n",
       "      <td>18.5</td>\n",
       "    </tr>\n",
       "    <tr>\n",
       "      <th>4</th>\n",
       "      <td>5</td>\n",
       "      <td>180.8</td>\n",
       "      <td>10.8</td>\n",
       "      <td>58.4</td>\n",
       "      <td>12.9</td>\n",
       "    </tr>\n",
       "  </tbody>\n",
       "</table>\n",
       "</div>"
      ],
      "text/plain": [
       "   Unnamed: 0     TV  Radio  Newspaper  Sales\n",
       "0           1  230.1   37.8       69.2   22.1\n",
       "1           2   44.5   39.3       45.1   10.4\n",
       "2           3   17.2   45.9       69.3    9.3\n",
       "3           4  151.5   41.3       58.5   18.5\n",
       "4           5  180.8   10.8       58.4   12.9"
      ]
     },
     "execution_count": 3,
     "metadata": {},
     "output_type": "execute_result"
    }
   ],
   "source": [
    "# preview of data file\n",
    "data.head()"
   ]
  },
  {
   "cell_type": "code",
   "execution_count": 4,
   "id": "788d6091",
   "metadata": {},
   "outputs": [],
   "source": [
    "# dropping columns \"Unnamed: 0\"\n",
    "data = data.drop(['Unnamed: 0'],axis=1)"
   ]
  },
  {
   "cell_type": "code",
   "execution_count": 5,
   "id": "4f6f11e6",
   "metadata": {},
   "outputs": [
    {
     "data": {
      "text/plain": [
       "TV           0\n",
       "Radio        0\n",
       "Newspaper    0\n",
       "Sales        0\n",
       "dtype: int64"
      ]
     },
     "execution_count": 5,
     "metadata": {},
     "output_type": "execute_result"
    }
   ],
   "source": [
    "# checking for null values\n",
    "data.isnull().sum()"
   ]
  },
  {
   "cell_type": "code",
   "execution_count": 6,
   "id": "2020cfb0",
   "metadata": {},
   "outputs": [
    {
     "name": "stdout",
     "output_type": "stream",
     "text": [
      "<class 'pandas.core.frame.DataFrame'>\n",
      "RangeIndex: 200 entries, 0 to 199\n",
      "Data columns (total 4 columns):\n",
      " #   Column     Non-Null Count  Dtype  \n",
      "---  ------     --------------  -----  \n",
      " 0   TV         200 non-null    float64\n",
      " 1   Radio      200 non-null    float64\n",
      " 2   Newspaper  200 non-null    float64\n",
      " 3   Sales      200 non-null    float64\n",
      "dtypes: float64(4)\n",
      "memory usage: 6.4 KB\n"
     ]
    }
   ],
   "source": [
    "# information\n",
    "data.info()"
   ]
  },
  {
   "cell_type": "code",
   "execution_count": 7,
   "id": "42dba374",
   "metadata": {},
   "outputs": [
    {
     "data": {
      "text/html": [
       "<div>\n",
       "<style scoped>\n",
       "    .dataframe tbody tr th:only-of-type {\n",
       "        vertical-align: middle;\n",
       "    }\n",
       "\n",
       "    .dataframe tbody tr th {\n",
       "        vertical-align: top;\n",
       "    }\n",
       "\n",
       "    .dataframe thead th {\n",
       "        text-align: right;\n",
       "    }\n",
       "</style>\n",
       "<table border=\"1\" class=\"dataframe\">\n",
       "  <thead>\n",
       "    <tr style=\"text-align: right;\">\n",
       "      <th></th>\n",
       "      <th>TV</th>\n",
       "      <th>Radio</th>\n",
       "      <th>Newspaper</th>\n",
       "      <th>Sales</th>\n",
       "    </tr>\n",
       "  </thead>\n",
       "  <tbody>\n",
       "    <tr>\n",
       "      <th>count</th>\n",
       "      <td>200.000000</td>\n",
       "      <td>200.000000</td>\n",
       "      <td>200.000000</td>\n",
       "      <td>200.000000</td>\n",
       "    </tr>\n",
       "    <tr>\n",
       "      <th>mean</th>\n",
       "      <td>147.042500</td>\n",
       "      <td>23.264000</td>\n",
       "      <td>30.554000</td>\n",
       "      <td>14.022500</td>\n",
       "    </tr>\n",
       "    <tr>\n",
       "      <th>std</th>\n",
       "      <td>85.854236</td>\n",
       "      <td>14.846809</td>\n",
       "      <td>21.778621</td>\n",
       "      <td>5.217457</td>\n",
       "    </tr>\n",
       "    <tr>\n",
       "      <th>min</th>\n",
       "      <td>0.700000</td>\n",
       "      <td>0.000000</td>\n",
       "      <td>0.300000</td>\n",
       "      <td>1.600000</td>\n",
       "    </tr>\n",
       "    <tr>\n",
       "      <th>25%</th>\n",
       "      <td>74.375000</td>\n",
       "      <td>9.975000</td>\n",
       "      <td>12.750000</td>\n",
       "      <td>10.375000</td>\n",
       "    </tr>\n",
       "    <tr>\n",
       "      <th>50%</th>\n",
       "      <td>149.750000</td>\n",
       "      <td>22.900000</td>\n",
       "      <td>25.750000</td>\n",
       "      <td>12.900000</td>\n",
       "    </tr>\n",
       "    <tr>\n",
       "      <th>75%</th>\n",
       "      <td>218.825000</td>\n",
       "      <td>36.525000</td>\n",
       "      <td>45.100000</td>\n",
       "      <td>17.400000</td>\n",
       "    </tr>\n",
       "    <tr>\n",
       "      <th>max</th>\n",
       "      <td>296.400000</td>\n",
       "      <td>49.600000</td>\n",
       "      <td>114.000000</td>\n",
       "      <td>27.000000</td>\n",
       "    </tr>\n",
       "  </tbody>\n",
       "</table>\n",
       "</div>"
      ],
      "text/plain": [
       "               TV       Radio   Newspaper       Sales\n",
       "count  200.000000  200.000000  200.000000  200.000000\n",
       "mean   147.042500   23.264000   30.554000   14.022500\n",
       "std     85.854236   14.846809   21.778621    5.217457\n",
       "min      0.700000    0.000000    0.300000    1.600000\n",
       "25%     74.375000    9.975000   12.750000   10.375000\n",
       "50%    149.750000   22.900000   25.750000   12.900000\n",
       "75%    218.825000   36.525000   45.100000   17.400000\n",
       "max    296.400000   49.600000  114.000000   27.000000"
      ]
     },
     "execution_count": 7,
     "metadata": {},
     "output_type": "execute_result"
    }
   ],
   "source": [
    "# describing data file\n",
    "data.describe()"
   ]
  },
  {
   "cell_type": "code",
   "execution_count": 30,
   "id": "97a30694",
   "metadata": {},
   "outputs": [
    {
     "data": {
      "image/png": "[encoded data removed]",
      "text/plain": [
       "<Figure size 640x480 with 2 Axes>"
      ]
     },
     "metadata": {},
     "output_type": "display_data"
    }
   ],
   "source": [
    "# Calculate the correlation matrix between all columns\n",
    "correlation_matrix = data.corr()\n",
    "\n",
    "# Create a heatmap of the correlation matrix\n",
    "sns.heatmap(correlation_matrix, annot=True, cmap='coolwarm')\n",
    "plt.title('Correlation Diagram')\n",
    "plt.show()"
   ]
  },
  {
   "cell_type": "code",
   "execution_count": 9,
   "id": "775dd359",
   "metadata": {},
   "outputs": [
    {
     "data": {
      "image/png": "[encoded data removed]",
      "text/plain": [
       "<Figure size 640x480 with 1 Axes>"
      ]
     },
     "metadata": {},
     "output_type": "display_data"
    },
    {
     "data": {
      "image/png": "[encoded data removed]",
      "text/plain": [
       "<Figure size 640x480 with 1 Axes>"
      ]
     },
     "metadata": {},
     "output_type": "display_data"
    },
    {
     "data": {
      "image/png": "[encoded data removed]",
      "text/plain": [
       "<Figure size 640x480 with 1 Axes>"
      ]
     },
     "metadata": {},
     "output_type": "display_data"
    }
   ],
   "source": [
    "# Create a line chart of each column with 'Sales'\n",
    "for column in data.columns:\n",
    "    if column != 'Sales':\n",
    "        plt.plot(data[column], data['Sales'], 'o')\n",
    "        plt.xlabel(column)\n",
    "        plt.ylabel('Sales')\n",
    "        plt.show()"
   ]
  },
  {
   "cell_type": "code",
   "execution_count": 10,
   "id": "773648ce",
   "metadata": {},
   "outputs": [],
   "source": [
    "# spliting features from dataset \n",
    "X = data.iloc[:,0:3]\n",
    "\n",
    "# changing datatype into integer\n",
    "X = X.astype(int)"
   ]
  },
  {
   "cell_type": "code",
   "execution_count": 11,
   "id": "acc03512",
   "metadata": {},
   "outputs": [
    {
     "data": {
      "text/html": [
       "<div>\n",
       "<style scoped>\n",
       "    .dataframe tbody tr th:only-of-type {\n",
       "        vertical-align: middle;\n",
       "    }\n",
       "\n",
       "    .dataframe tbody tr th {\n",
       "        vertical-align: top;\n",
       "    }\n",
       "\n",
       "    .dataframe thead th {\n",
       "        text-align: right;\n",
       "    }\n",
       "</style>\n",
       "<table border=\"1\" class=\"dataframe\">\n",
       "  <thead>\n",
       "    <tr style=\"text-align: right;\">\n",
       "      <th></th>\n",
       "      <th>TV</th>\n",
       "      <th>Radio</th>\n",
       "      <th>Newspaper</th>\n",
       "    </tr>\n",
       "  </thead>\n",
       "  <tbody>\n",
       "    <tr>\n",
       "      <th>0</th>\n",
       "      <td>230</td>\n",
       "      <td>37</td>\n",
       "      <td>69</td>\n",
       "    </tr>\n",
       "    <tr>\n",
       "      <th>1</th>\n",
       "      <td>44</td>\n",
       "      <td>39</td>\n",
       "      <td>45</td>\n",
       "    </tr>\n",
       "    <tr>\n",
       "      <th>2</th>\n",
       "      <td>17</td>\n",
       "      <td>45</td>\n",
       "      <td>69</td>\n",
       "    </tr>\n",
       "    <tr>\n",
       "      <th>3</th>\n",
       "      <td>151</td>\n",
       "      <td>41</td>\n",
       "      <td>58</td>\n",
       "    </tr>\n",
       "    <tr>\n",
       "      <th>4</th>\n",
       "      <td>180</td>\n",
       "      <td>10</td>\n",
       "      <td>58</td>\n",
       "    </tr>\n",
       "    <tr>\n",
       "      <th>...</th>\n",
       "      <td>...</td>\n",
       "      <td>...</td>\n",
       "      <td>...</td>\n",
       "    </tr>\n",
       "    <tr>\n",
       "      <th>195</th>\n",
       "      <td>38</td>\n",
       "      <td>3</td>\n",
       "      <td>13</td>\n",
       "    </tr>\n",
       "    <tr>\n",
       "      <th>196</th>\n",
       "      <td>94</td>\n",
       "      <td>4</td>\n",
       "      <td>8</td>\n",
       "    </tr>\n",
       "    <tr>\n",
       "      <th>197</th>\n",
       "      <td>177</td>\n",
       "      <td>9</td>\n",
       "      <td>6</td>\n",
       "    </tr>\n",
       "    <tr>\n",
       "      <th>198</th>\n",
       "      <td>283</td>\n",
       "      <td>42</td>\n",
       "      <td>66</td>\n",
       "    </tr>\n",
       "    <tr>\n",
       "      <th>199</th>\n",
       "      <td>232</td>\n",
       "      <td>8</td>\n",
       "      <td>8</td>\n",
       "    </tr>\n",
       "  </tbody>\n",
       "</table>\n",
       "<p>200 rows × 3 columns</p>\n",
       "</div>"
      ],
      "text/plain": [
       "      TV  Radio  Newspaper\n",
       "0    230     37         69\n",
       "1     44     39         45\n",
       "2     17     45         69\n",
       "3    151     41         58\n",
       "4    180     10         58\n",
       "..   ...    ...        ...\n",
       "195   38      3         13\n",
       "196   94      4          8\n",
       "197  177      9          6\n",
       "198  283     42         66\n",
       "199  232      8          8\n",
       "\n",
       "[200 rows x 3 columns]"
      ]
     },
     "execution_count": 11,
     "metadata": {},
     "output_type": "execute_result"
    }
   ],
   "source": [
    "X"
   ]
  },
  {
   "cell_type": "code",
   "execution_count": 12,
   "id": "e39a484b",
   "metadata": {},
   "outputs": [],
   "source": [
    "# spliting target values from dataset\n",
    "Y = data.iloc[:,3]\n",
    "\n",
    "# changing datatype into integer\n",
    "Y = Y.astype(int)"
   ]
  },
  {
   "cell_type": "code",
   "execution_count": 13,
   "id": "2f071da5",
   "metadata": {},
   "outputs": [
    {
     "data": {
      "text/plain": [
       "0      22\n",
       "1      10\n",
       "2       9\n",
       "3      18\n",
       "4      12\n",
       "       ..\n",
       "195     7\n",
       "196     9\n",
       "197    12\n",
       "198    25\n",
       "199    13\n",
       "Name: Sales, Length: 200, dtype: int32"
      ]
     },
     "execution_count": 13,
     "metadata": {},
     "output_type": "execute_result"
    }
   ],
   "source": [
    "Y"
   ]
  },
  {
   "cell_type": "code",
   "execution_count": 14,
   "id": "53f3770c",
   "metadata": {},
   "outputs": [],
   "source": [
    "# importing train test split for model trainig\n",
    "from sklearn.model_selection import train_test_split\n",
    "X_train,X_test,Y_train,Y_test = train_test_split(X,Y,test_size = 0.2)"
   ]
  },
  {
   "cell_type": "code",
   "execution_count": 15,
   "id": "7c8f425a",
   "metadata": {},
   "outputs": [
    {
     "data": {
      "text/html": [
       "<div>\n",
       "<style scoped>\n",
       "    .dataframe tbody tr th:only-of-type {\n",
       "        vertical-align: middle;\n",
       "    }\n",
       "\n",
       "    .dataframe tbody tr th {\n",
       "        vertical-align: top;\n",
       "    }\n",
       "\n",
       "    .dataframe thead th {\n",
       "        text-align: right;\n",
       "    }\n",
       "</style>\n",
       "<table border=\"1\" class=\"dataframe\">\n",
       "  <thead>\n",
       "    <tr style=\"text-align: right;\">\n",
       "      <th></th>\n",
       "      <th>TV</th>\n",
       "      <th>Radio</th>\n",
       "      <th>Newspaper</th>\n",
       "    </tr>\n",
       "  </thead>\n",
       "  <tbody>\n",
       "    <tr>\n",
       "      <th>124</th>\n",
       "      <td>229</td>\n",
       "      <td>32</td>\n",
       "      <td>74</td>\n",
       "    </tr>\n",
       "    <tr>\n",
       "      <th>79</th>\n",
       "      <td>116</td>\n",
       "      <td>7</td>\n",
       "      <td>23</td>\n",
       "    </tr>\n",
       "    <tr>\n",
       "      <th>8</th>\n",
       "      <td>8</td>\n",
       "      <td>2</td>\n",
       "      <td>1</td>\n",
       "    </tr>\n",
       "    <tr>\n",
       "      <th>76</th>\n",
       "      <td>27</td>\n",
       "      <td>1</td>\n",
       "      <td>20</td>\n",
       "    </tr>\n",
       "    <tr>\n",
       "      <th>187</th>\n",
       "      <td>191</td>\n",
       "      <td>28</td>\n",
       "      <td>18</td>\n",
       "    </tr>\n",
       "  </tbody>\n",
       "</table>\n",
       "</div>"
      ],
      "text/plain": [
       "      TV  Radio  Newspaper\n",
       "124  229     32         74\n",
       "79   116      7         23\n",
       "8      8      2          1\n",
       "76    27      1         20\n",
       "187  191     28         18"
      ]
     },
     "execution_count": 15,
     "metadata": {},
     "output_type": "execute_result"
    }
   ],
   "source": [
    "X_train.head()"
   ]
  },
  {
   "cell_type": "code",
   "execution_count": 16,
   "id": "8d97679c",
   "metadata": {},
   "outputs": [
    {
     "data": {
      "text/html": [
       "<div>\n",
       "<style scoped>\n",
       "    .dataframe tbody tr th:only-of-type {\n",
       "        vertical-align: middle;\n",
       "    }\n",
       "\n",
       "    .dataframe tbody tr th {\n",
       "        vertical-align: top;\n",
       "    }\n",
       "\n",
       "    .dataframe thead th {\n",
       "        text-align: right;\n",
       "    }\n",
       "</style>\n",
       "<table border=\"1\" class=\"dataframe\">\n",
       "  <thead>\n",
       "    <tr style=\"text-align: right;\">\n",
       "      <th></th>\n",
       "      <th>TV</th>\n",
       "      <th>Radio</th>\n",
       "      <th>Newspaper</th>\n",
       "    </tr>\n",
       "  </thead>\n",
       "  <tbody>\n",
       "    <tr>\n",
       "      <th>75</th>\n",
       "      <td>16</td>\n",
       "      <td>43</td>\n",
       "      <td>89</td>\n",
       "    </tr>\n",
       "    <tr>\n",
       "      <th>117</th>\n",
       "      <td>76</td>\n",
       "      <td>0</td>\n",
       "      <td>14</td>\n",
       "    </tr>\n",
       "    <tr>\n",
       "      <th>185</th>\n",
       "      <td>205</td>\n",
       "      <td>45</td>\n",
       "      <td>19</td>\n",
       "    </tr>\n",
       "    <tr>\n",
       "      <th>196</th>\n",
       "      <td>94</td>\n",
       "      <td>4</td>\n",
       "      <td>8</td>\n",
       "    </tr>\n",
       "    <tr>\n",
       "      <th>52</th>\n",
       "      <td>216</td>\n",
       "      <td>41</td>\n",
       "      <td>39</td>\n",
       "    </tr>\n",
       "  </tbody>\n",
       "</table>\n",
       "</div>"
      ],
      "text/plain": [
       "      TV  Radio  Newspaper\n",
       "75    16     43         89\n",
       "117   76      0         14\n",
       "185  205     45         19\n",
       "196   94      4          8\n",
       "52   216     41         39"
      ]
     },
     "execution_count": 16,
     "metadata": {},
     "output_type": "execute_result"
    }
   ],
   "source": [
    "X_test.head()"
   ]
  },
  {
   "cell_type": "code",
   "execution_count": 17,
   "id": "53c580c9",
   "metadata": {},
   "outputs": [
    {
     "data": {
      "text/plain": [
       "124    19\n",
       "79     11\n",
       "8       4\n",
       "76      6\n",
       "187    17\n",
       "Name: Sales, dtype: int32"
      ]
     },
     "execution_count": 17,
     "metadata": {},
     "output_type": "execute_result"
    }
   ],
   "source": [
    "Y_train.head()"
   ]
  },
  {
   "cell_type": "code",
   "execution_count": 18,
   "id": "6b7fcf14",
   "metadata": {},
   "outputs": [
    {
     "data": {
      "text/plain": [
       "75      8\n",
       "117     9\n",
       "185    22\n",
       "196     9\n",
       "52     22\n",
       "Name: Sales, dtype: int32"
      ]
     },
     "execution_count": 18,
     "metadata": {},
     "output_type": "execute_result"
    }
   ],
   "source": [
    "Y_test.head()"
   ]
  },
  {
   "cell_type": "code",
   "execution_count": 19,
   "id": "87734d0a",
   "metadata": {},
   "outputs": [],
   "source": [
    "# importing Standard Scaler for scaling data\n",
    "from sklearn.preprocessing import StandardScaler\n",
    "sc=StandardScaler()"
   ]
  },
  {
   "cell_type": "code",
   "execution_count": 20,
   "id": "f2617760",
   "metadata": {},
   "outputs": [],
   "source": [
    "# scaling X train and X test dataset\n",
    "X_train_scaled=sc.fit_transform(X_train)\n",
    "X_test_scaled=sc.fit_transform(X_test)"
   ]
  },
  {
   "cell_type": "code",
   "execution_count": 21,
   "id": "97999e16",
   "metadata": {},
   "outputs": [
    {
     "data": {
      "text/plain": [
       "array([[ 9.44291880e-01,  6.25021993e-01,  2.11770638e+00],\n",
       "       [-3.60070347e-01, -1.09089288e+00, -2.88041088e-01],\n",
       "       [-1.60671743e+00, -1.43407586e+00, -1.32581450e+00],\n",
       "       [-1.38739989e+00, -1.50271245e+00, -4.29555644e-01],\n",
       "       [ 5.05656795e-01,  3.50475613e-01, -5.23898682e-01],\n",
       "       [-1.69906166e+00,  1.10547816e+00, -9.95613872e-01],\n",
       "       [ 1.53298634e+00, -8.84983096e-01, -3.82384125e-01],\n",
       "       [ 2.08495953e-02,  8.30931777e-01, -1.08995691e+00],\n",
       "       [-9.02592690e-01, -1.98617147e-01, -5.23898682e-01],\n",
       "       [ 1.48681422e+00,  1.72320751e+00,  5.61046253e-01],\n",
       "       [ 5.28742852e-01, -3.35890336e-01,  1.69316271e+00],\n",
       "       [-5.99516046e-02,  4.19112208e-01, -8.06927796e-01],\n",
       "       [-7.75619376e-01, -1.57134905e+00, -9.48442353e-01],\n",
       "       [ 1.24441062e+00,  2.13202423e-01, -1.13712843e+00],\n",
       "       [ 6.78802223e-01, -1.22816607e+00, -4.76727163e-01],\n",
       "       [ 8.98119766e-01, -1.02225629e+00,  1.26861904e+00],\n",
       "       [ 1.35984091e+00, -1.43407586e+00,  6.55389291e-01],\n",
       "       [-4.98586690e-01, -1.22816607e+00,  2.30845621e-01],\n",
       "       [-1.61826046e+00,  1.03684156e+00,  9.85589924e-01],\n",
       "       [-9.37221775e-01, -8.16346501e-01,  3.25188659e-01],\n",
       "       [ 5.74914966e-01,  7.29263821e-03, -7.12584758e-01],\n",
       "       [-1.05265206e+00, -1.22816607e+00, -5.01197389e-03],\n",
       "       [ 8.63490680e-01, -1.36543926e+00, -7.59756277e-01],\n",
       "       [ 1.03663611e+00, -1.22816607e+00, -2.88041088e-01],\n",
       "       [ 3.20968338e-01, -5.41800121e-01, -1.27864299e+00],\n",
       "       [-1.64134652e+00,  4.19112208e-01, -9.48442353e-01],\n",
       "       [-1.19116840e+00,  1.10547816e+00,  7.49732329e-01],\n",
       "       [-1.20271143e+00,  2.13202423e-01,  2.78017140e-01],\n",
       "       [-1.60671743e+00,  2.81839018e-01, -1.27864299e+00],\n",
       "       [-1.54900229e+00, -5.41800121e-01,  9.38418405e-01],\n",
       "       [ 8.17318566e-01, -1.22816607e+00, -9.93550118e-02],\n",
       "       [-1.43357200e+00,  8.30931777e-01,  1.69316271e+00],\n",
       "       [ 1.45218514e+00,  3.50475613e-01,  1.41013359e+00],\n",
       "       [-8.44877547e-01,  1.79184411e+00,  7.49732329e-01],\n",
       "       [ 8.28861595e-01,  6.93658588e-01,  7.49732329e-01],\n",
       "       [-1.65288955e+00, -8.16346501e-01, -1.13712843e+00],\n",
       "       [ 8.17318566e-01,  2.81839018e-01,  1.12710448e+00],\n",
       "       [ 5.98001024e-01,  4.87748803e-01,  4.19531697e-01],\n",
       "       [-8.33334518e-01, -8.84983096e-01, -1.08995691e+00],\n",
       "       [ 3.78683481e-01, -8.84983096e-01,  1.36296208e+00],\n",
       "       [-1.54900229e+00, -1.57134905e+00, -1.93698050e-01],\n",
       "       [-3.48527319e-01, -6.10436716e-01, -1.13712843e+00],\n",
       "       [-3.13898233e-01, -2.67253742e-01, -8.54099315e-01],\n",
       "       [-1.34122778e+00,  7.59292331e-02, -1.27864299e+00],\n",
       "       [ 9.21205823e-01, -5.41800121e-01,  9.38418405e-01],\n",
       "       [-6.83275147e-01,  1.44565828e-01,  2.07053486e+00],\n",
       "       [-8.33334518e-01, -1.98617147e-01,  1.36502583e-01],\n",
       "       [-2.23646178e-03,  7.29263821e-03, -4.76727163e-01],\n",
       "       [ 7.94232509e-01,  1.38002454e+00, -9.93550118e-02],\n",
       "       [ 5.86457995e-01,  1.79184411e+00,  1.45730511e+00],\n",
       "       [-1.39894292e+00,  6.93658588e-01, -4.76727163e-01],\n",
       "       [-5.79387890e-01, -1.50271245e+00,  4.21595451e-02],\n",
       "       [ 9.32748852e-01,  9.68204967e-01,  1.36502583e-01],\n",
       "       [ 4.59484681e-01, -4.04526931e-01, -5.71070201e-01],\n",
       "       [ 3.20968338e-01, -6.13439567e-02,  8.93310640e-02],\n",
       "       [ 1.04817914e+00,  7.62295183e-01, -1.13712843e+00],\n",
       "       [ 1.64841662e+00, -1.29680267e+00, -9.95613872e-01],\n",
       "       [ 5.98001024e-01, -1.43407586e+00, -3.82384125e-01],\n",
       "       [-9.02592690e-01, -9.53619691e-01, -1.37298602e+00],\n",
       "       [-8.33334518e-01,  8.30931777e-01,  1.07993296e+00],\n",
       "       [ 1.63687359e+00,  1.31138794e+00,  1.03276144e+00],\n",
       "       [-1.26042658e+00, -1.36543926e+00, -7.59756277e-01],\n",
       "       [-9.83393890e-01, -7.47709906e-01, -5.23898682e-01],\n",
       "       [-2.79269147e-01,  7.62295183e-01, -8.06927796e-01],\n",
       "       [-6.71732118e-01, -9.53619691e-01,  2.78017140e-01],\n",
       "       [-8.91049661e-01, -4.73163526e-01,  5.13874734e-01],\n",
       "       [ 1.07126519e+00, -1.09089288e+00, -9.95613872e-01],\n",
       "       [-5.44758804e-01, -9.53619691e-01, -1.23147147e+00],\n",
       "       [-1.04110903e+00,  6.25021993e-01, -2.88041088e-01],\n",
       "       [ 8.05775538e-01,  6.93658588e-01,  1.41013359e+00],\n",
       "       [-4.40871547e-01,  1.65457092e+00,  1.03276144e+00],\n",
       "       [ 4.01769538e-01,  1.58593432e+00,  1.36296208e+00],\n",
       "       [-1.86924919e-01, -3.35890336e-01,  2.30845621e-01],\n",
       "       [ 1.07126519e+00, -4.73163526e-01, -3.35212606e-01],\n",
       "       [-7.98705433e-01,  1.58593432e+00,  2.30845621e-01],\n",
       "       [ 1.16360942e+00,  2.81839018e-01, -3.35212606e-01],\n",
       "       [ 5.51828909e-01,  1.65457092e+00,  1.07993296e+00],\n",
       "       [ 1.03663611e+00,  2.81839018e-01, -8.54099315e-01],\n",
       "       [-1.19116840e+00,  1.44565828e-01, -4.29555644e-01],\n",
       "       [ 7.59603423e-01,  7.59292331e-02, -7.59756277e-01],\n",
       "       [-9.45806903e-02, -6.10436716e-01, -9.01270834e-01],\n",
       "       [ 5.74914966e-01, -1.36543926e+00, -1.13712843e+00],\n",
       "       [-1.40752805e-01,  1.24275135e+00,  7.49732329e-01],\n",
       "       [ 1.32521182e+00,  3.50475613e-01, -6.65413239e-01],\n",
       "       [-1.61826046e+00,  3.50475613e-01,  5.61046253e-01],\n",
       "       [-1.41048595e+00,  1.10547816e+00, -9.48442353e-01],\n",
       "       [-8.21791490e-01,  2.13202423e-01, -3.35212606e-01],\n",
       "       [ 1.10589428e+00,  1.79184411e+00,  7.02560810e-01],\n",
       "       [ 1.05972217e+00, -5.41800121e-01, -9.93550118e-02],\n",
       "       [-1.12191023e+00, -8.16346501e-01, -5.23898682e-01],\n",
       "       [ 1.71767479e+00,  8.99568372e-01,  3.34416587e+00],\n",
       "       [ 4.59484681e-01, -1.29980552e-01, -9.48442353e-01],\n",
       "       [-1.49128715e+00, -1.29980552e-01,  9.85589924e-01],\n",
       "       [-9.25678747e-01,  8.99568372e-01,  4.00456714e+00],\n",
       "       [ 1.01650795e-01, -1.43407586e+00, -9.95613872e-01],\n",
       "       [-1.50283018e+00, -1.29680267e+00,  8.93310640e-02],\n",
       "       [-1.17666747e-01,  1.58593432e+00,  1.41013359e+00],\n",
       "       [ 2.05538052e-01, -8.84983096e-01, -5.71070201e-01],\n",
       "       [ 1.53298634e+00, -6.79073311e-01,  3.72360178e-01],\n",
       "       [ 9.55834909e-01,  9.68204967e-01,  1.88184878e+00],\n",
       "       [-1.29209776e-01, -2.67253742e-01, -6.18241720e-01],\n",
       "       [ 2.40167138e-01, -1.09089288e+00, -8.06927796e-01],\n",
       "       [-5.90930919e-01, -6.10436716e-01,  4.19531697e-01],\n",
       "       [-1.57208835e+00,  8.99568372e-01,  7.49732329e-01],\n",
       "       [ 3.44054395e-01, -9.53619691e-01, -1.08995691e+00],\n",
       "       [ 6.78802223e-01, -1.02225629e+00, -1.46526531e-01],\n",
       "       [ 8.40404623e-01,  6.93658588e-01,  3.72360178e-01],\n",
       "       [ 9.78920966e-01, -1.02225629e+00, -9.95613872e-01],\n",
       "       [-1.86924919e-01,  1.31138794e+00, -5.21834928e-02],\n",
       "       [ 1.08280822e+00,  1.03684156e+00, -2.88041088e-01],\n",
       "       [ 6.55716166e-01,  6.25021993e-01,  7.96903848e-01],\n",
       "       [ 2.74796224e-01,  1.10547816e+00,  3.72360178e-01],\n",
       "       [-9.45806903e-02, -6.10436716e-01, -1.93698050e-01],\n",
       "       [ 1.67150268e+00,  3.50475613e-01,  6.55389291e-01],\n",
       "       [ 4.71027709e-01, -3.35890336e-01, -1.93698050e-01],\n",
       "       [ 1.35984091e+00, -1.98617147e-01, -1.37298602e+00],\n",
       "       [-7.17904233e-01,  8.30931777e-01,  9.38418405e-01],\n",
       "       [ 2.08495953e-02, -1.50271245e+00, -2.40869569e-01],\n",
       "       [-1.28351263e+00,  1.03684156e+00,  1.69316271e+00],\n",
       "       [ 5.28742852e-01,  8.30931777e-01,  2.16487790e+00],\n",
       "       [ 7.24974338e-01,  4.19112208e-01, -9.48442353e-01],\n",
       "       [ 2.63253195e-01, -1.09089288e+00,  2.78017140e-01],\n",
       "       [ 1.54452937e+00,  1.10547816e+00,  1.22144752e+00],\n",
       "       [-8.21791490e-01,  2.81839018e-01, -6.18241720e-01],\n",
       "       [-1.47974412e+00, -1.98617147e-01, -5.71070201e-01],\n",
       "       [-9.14135718e-01,  1.44866113e+00,  2.78017140e-01],\n",
       "       [ 1.31366879e+00,  1.31138794e+00,  1.17427600e+00],\n",
       "       [-1.50283018e+00,  1.51729773e+00,  1.88184878e+00],\n",
       "       [-5.21672747e-01,  4.19112208e-01, -9.95613872e-01],\n",
       "       [ 1.57915845e+00, -8.84983096e-01, -1.08995691e+00],\n",
       "       [ 1.32521182e+00, -1.36543926e+00, -4.76727163e-01],\n",
       "       [ 8.40404623e-01,  1.79184411e+00, -1.23147147e+00],\n",
       "       [-6.02473947e-01, -1.50271245e+00, -1.04278539e+00],\n",
       "       [ 1.18669548e+00,  8.99568372e-01,  2.02336334e+00],\n",
       "       [-9.45806903e-02, -1.43407586e+00, -1.46526531e-01],\n",
       "       [-6.60189090e-01, -1.57134905e+00, -2.88041088e-01],\n",
       "       [ 7.24974338e-01,  1.79184411e+00,  3.72360178e-01],\n",
       "       [-1.24888355e+00,  1.24275135e+00, -1.13712843e+00],\n",
       "       [-8.56420575e-01, -4.04526931e-01, -8.06927796e-01],\n",
       "       [ 7.13431309e-01, -1.98617147e-01, -9.01270834e-01],\n",
       "       [-1.14499629e+00,  1.65457092e+00, -9.95613872e-01],\n",
       "       [-8.30376617e-02, -1.50271245e+00, -9.48442353e-01],\n",
       "       [-1.01802298e+00, -7.47709906e-01,  6.55389291e-01],\n",
       "       [-1.47974412e+00, -4.73163526e-01, -3.35212606e-01],\n",
       "       [-6.25560004e-01,  1.38002454e+00,  9.85589924e-01],\n",
       "       [ 1.16360942e+00,  4.87748803e-01, -4.29555644e-01],\n",
       "       [ 4.24855595e-01,  1.38002454e+00, -1.32581450e+00],\n",
       "       [ 4.24855595e-01, -1.29980552e-01, -3.35212606e-01],\n",
       "       [-1.52295833e-01, -1.29680267e+00, -9.48442353e-01],\n",
       "       [ 1.48681422e+00, -1.43407586e+00, -2.88041088e-01],\n",
       "       [ 9.32748852e-01, -4.73163526e-01, -1.46526531e-01],\n",
       "       [ 6.32630109e-01, -6.13439567e-02,  8.93310640e-02],\n",
       "       [ 1.61378754e+00,  1.38002454e+00,  1.97619182e+00],\n",
       "       [-1.20271143e+00,  1.44565828e-01, -4.29555644e-01],\n",
       "       [-9.37221775e-01, -1.22816607e+00, -2.40869569e-01],\n",
       "       [-1.41048595e+00, -8.16346501e-01, -5.01197389e-03],\n",
       "       [ 1.82451995e-01,  5.56385398e-01,  1.07993296e+00],\n",
       "       [ 1.82451995e-01,  8.99568372e-01, -1.04278539e+00],\n",
       "       [ 7.59603423e-01,  1.38002454e+00,  1.83674102e-01],\n",
       "       [ 1.60224451e+00, -6.79073311e-01, -1.23147147e+00]])"
      ]
     },
     "execution_count": 21,
     "metadata": {},
     "output_type": "execute_result"
    }
   ],
   "source": [
    "X_train_scaled"
   ]
  },
  {
   "cell_type": "code",
   "execution_count": 22,
   "id": "cf82a753",
   "metadata": {},
   "outputs": [
    {
     "data": {
      "text/plain": [
       "array([[-1.57448934,  1.31974663,  2.36300636],\n",
       "       [-0.83687966, -1.43172514, -0.86367506],\n",
       "       [ 0.74898117,  1.44772206, -0.64856297],\n",
       "       [-0.61559675, -1.17577427, -1.12180957],\n",
       "       [ 0.88420961,  1.1917712 ,  0.21188541],\n",
       "       [-0.23449841,  0.87183262,  1.93278217],\n",
       "       [ 0.34329584, -0.27994626, -0.17531636],\n",
       "       [-1.6728373 ,  1.63968521,  1.76069249],\n",
       "       [-0.45578132, -0.53589712, -1.03576474],\n",
       "       [-0.41890083,  1.12778349,  1.24442347],\n",
       "       [ 1.83080871,  0.29594318, -1.42296651],\n",
       "       [ 1.70787376,  1.25575892,  1.37349072],\n",
       "       [-0.29596589,  0.3599309 , -0.86367506],\n",
       "       [ 0.6752202 , -1.23976199, -0.00322668],\n",
       "       [ 0.95797058, -1.17577427,  0.6421096 ],\n",
       "       [-0.70165121, -0.72786026, -0.39042845],\n",
       "       [ 1.16695999,  1.1917712 , -0.69158538],\n",
       "       [ 0.87191612,  0.03999232,  0.98628895],\n",
       "       [ 0.24494788, -0.15197082,  0.55606476],\n",
       "       [ 1.16695999, -1.17577427,  0.08281816],\n",
       "       [ 0.08513245,  1.1917712 ,  1.02931137],\n",
       "       [ 0.85962262,  0.10398004, -1.29389925],\n",
       "       [ 0.40476331,  0.67986948,  0.16886299],\n",
       "       [-1.56219585,  0.93582034, -0.56251813],\n",
       "       [ 1.49888435,  1.31974663, -1.25087683],\n",
       "       [ 1.33906892, -0.08798311, -0.17531636],\n",
       "       [-0.39431384, -0.34393397,  0.16886299],\n",
       "       [-1.11963003, -1.3037497 , -0.56251813],\n",
       "       [-0.28367239, -0.91982341,  0.59908718],\n",
       "       [-0.18532443, -1.11178656, -0.13229394],\n",
       "       [-1.4269674 , -1.36773742, -0.0462491 ],\n",
       "       [-0.43119433, -0.53589712, -0.13229394],\n",
       "       [ 1.10549252, -1.23976199,  2.14789426],\n",
       "       [-1.30403246,  1.12778349, -0.99274232],\n",
       "       [-0.57871627, -0.98381113, -1.16483199],\n",
       "       [ 0.98255757, -1.3037497 , -0.82065264],\n",
       "       [-0.0378025 ,  0.23195547,  0.51304235],\n",
       "       [ 0.26953487,  1.25575892, -1.33692167],\n",
       "       [-1.54990235, -0.66387255, -0.47647329],\n",
       "       [-1.46384789,  0.16796775,  0.38397509]])"
      ]
     },
     "execution_count": 22,
     "metadata": {},
     "output_type": "execute_result"
    }
   ],
   "source": [
    "X_test_scaled"
   ]
  },
  {
   "cell_type": "code",
   "execution_count": 23,
   "id": "a8e06698",
   "metadata": {},
   "outputs": [],
   "source": [
    "# importing linear regression \n",
    "from sklearn.linear_model import LinearRegression\n",
    "lr = LinearRegression()"
   ]
  },
  {
   "cell_type": "code",
   "execution_count": 24,
   "id": "7b08747d",
   "metadata": {},
   "outputs": [
    {
     "data": {
      "text/plain": [
       "LinearRegression()"
      ]
     },
     "execution_count": 24,
     "metadata": {},
     "output_type": "execute_result"
    }
   ],
   "source": [
    "# training model with training dataset\n",
    "lr.fit(X_train_scaled,Y_train)"
   ]
  },
  {
   "cell_type": "code",
   "execution_count": 25,
   "id": "729c7e74",
   "metadata": {},
   "outputs": [],
   "source": [
    "# testing model with testing dataset\n",
    "pred = lr.predict(X_test_scaled)"
   ]
  },
  {
   "cell_type": "code",
   "execution_count": 26,
   "id": "7ddc7c59",
   "metadata": {},
   "outputs": [
    {
     "data": {
      "text/plain": [
       "0.8685090413141272"
      ]
     },
     "execution_count": 26,
     "metadata": {},
     "output_type": "execute_result"
    }
   ],
   "source": [
    "# importing r2 score(Regression score function)\n",
    "from sklearn.metrics import r2_score\n",
    "r2 = r2_score(Y_test,pred)\n",
    "r2"
   ]
  },
  {
   "cell_type": "code",
   "execution_count": 27,
   "id": "e43d5ab8",
   "metadata": {},
   "outputs": [
    {
     "data": {
      "text/plain": [
       "<matplotlib.collections.PathCollection at 0x2a72c72a130>"
      ]
     },
     "execution_count": 27,
     "metadata": {},
     "output_type": "execute_result"
    },
    {
     "data": {
      "image/png": "[encoded data removed]",
      "text/plain": [
       "<Figure size 640x480 with 1 Axes>"
      ]
     },
     "metadata": {},
     "output_type": "display_data"
    }
   ],
   "source": [
    "# plotting the prediction with test data\n",
    "plt.scatter(Y_test,pred)"
   ]
  },
  {
   "cell_type": "code",
   "execution_count": null,
   "id": "56bee4cf",
   "metadata": {},
   "outputs": [],
   "source": []
  }
 ],
 "metadata": {
  "kernelspec": {
   "display_name": "Python 3 (ipykernel)",
   "language": "python",
   "name": "python3"
  },
  "language_info": {
   "codemirror_mode": {
    "name": "ipython",
    "version": 3
   },
   "file_extension": ".py",
   "mimetype": "text/x-python",
   "name": "python",
   "nbconvert_exporter": "python",
   "pygments_lexer": "ipython3",
   "version": "3.9.13"
  }
 },
 "nbformat": 4,
 "nbformat_minor": 5
}
